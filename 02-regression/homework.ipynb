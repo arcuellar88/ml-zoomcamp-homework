{
 "cells": [
  {
   "cell_type": "markdown",
   "id": "f168c921",
   "metadata": {},
   "source": [
    "## 2. Machine Learning for Regression\n"
   ]
  },
  {
   "cell_type": "code",
   "execution_count": 6,
   "id": "b588d697",
   "metadata": {
    "scrolled": true
   },
   "outputs": [],
   "source": [
    "import pandas as pd\n",
    "import numpy as np"
   ]
  },
  {
   "cell_type": "markdown",
   "id": "4363f9f3",
   "metadata": {},
   "source": [
    "## 2.2 Data preparation"
   ]
  },
  {
   "cell_type": "code",
   "execution_count": 65,
   "id": "cb2b9f92",
   "metadata": {},
   "outputs": [],
   "source": [
    "df = pd.read_csv('https://raw.githubusercontent.com/alexeygrigorev/datasets/master/car_fuel_efficiency.csv')"
   ]
  },
  {
   "cell_type": "code",
   "execution_count": 67,
   "id": "04401941-cbd4-478b-82de-09556b299b43",
   "metadata": {},
   "outputs": [
    {
     "data": {
      "text/html": [
       "<div>\n",
       "<style scoped>\n",
       "    .dataframe tbody tr th:only-of-type {\n",
       "        vertical-align: middle;\n",
       "    }\n",
       "\n",
       "    .dataframe tbody tr th {\n",
       "        vertical-align: top;\n",
       "    }\n",
       "\n",
       "    .dataframe thead th {\n",
       "        text-align: right;\n",
       "    }\n",
       "</style>\n",
       "<table border=\"1\" class=\"dataframe\">\n",
       "  <thead>\n",
       "    <tr style=\"text-align: right;\">\n",
       "      <th></th>\n",
       "      <th>engine_displacement</th>\n",
       "      <th>num_cylinders</th>\n",
       "      <th>horsepower</th>\n",
       "      <th>vehicle_weight</th>\n",
       "      <th>acceleration</th>\n",
       "      <th>model_year</th>\n",
       "      <th>origin</th>\n",
       "      <th>fuel_type</th>\n",
       "      <th>drivetrain</th>\n",
       "      <th>num_doors</th>\n",
       "      <th>fuel_efficiency_mpg</th>\n",
       "    </tr>\n",
       "  </thead>\n",
       "  <tbody>\n",
       "    <tr>\n",
       "      <th>0</th>\n",
       "      <td>170</td>\n",
       "      <td>3.0</td>\n",
       "      <td>159.0</td>\n",
       "      <td>3413.433759</td>\n",
       "      <td>17.7</td>\n",
       "      <td>2003</td>\n",
       "      <td>Europe</td>\n",
       "      <td>Gasoline</td>\n",
       "      <td>All-wheel drive</td>\n",
       "      <td>0.0</td>\n",
       "      <td>13.231729</td>\n",
       "    </tr>\n",
       "    <tr>\n",
       "      <th>1</th>\n",
       "      <td>130</td>\n",
       "      <td>5.0</td>\n",
       "      <td>97.0</td>\n",
       "      <td>3149.664934</td>\n",
       "      <td>17.8</td>\n",
       "      <td>2007</td>\n",
       "      <td>USA</td>\n",
       "      <td>Gasoline</td>\n",
       "      <td>Front-wheel drive</td>\n",
       "      <td>0.0</td>\n",
       "      <td>13.688217</td>\n",
       "    </tr>\n",
       "    <tr>\n",
       "      <th>2</th>\n",
       "      <td>170</td>\n",
       "      <td>NaN</td>\n",
       "      <td>78.0</td>\n",
       "      <td>3079.038997</td>\n",
       "      <td>15.1</td>\n",
       "      <td>2018</td>\n",
       "      <td>Europe</td>\n",
       "      <td>Gasoline</td>\n",
       "      <td>Front-wheel drive</td>\n",
       "      <td>0.0</td>\n",
       "      <td>14.246341</td>\n",
       "    </tr>\n",
       "    <tr>\n",
       "      <th>3</th>\n",
       "      <td>220</td>\n",
       "      <td>4.0</td>\n",
       "      <td>NaN</td>\n",
       "      <td>2542.392402</td>\n",
       "      <td>20.2</td>\n",
       "      <td>2009</td>\n",
       "      <td>USA</td>\n",
       "      <td>Diesel</td>\n",
       "      <td>All-wheel drive</td>\n",
       "      <td>2.0</td>\n",
       "      <td>16.912736</td>\n",
       "    </tr>\n",
       "    <tr>\n",
       "      <th>4</th>\n",
       "      <td>210</td>\n",
       "      <td>1.0</td>\n",
       "      <td>140.0</td>\n",
       "      <td>3460.870990</td>\n",
       "      <td>14.4</td>\n",
       "      <td>2009</td>\n",
       "      <td>Europe</td>\n",
       "      <td>Gasoline</td>\n",
       "      <td>All-wheel drive</td>\n",
       "      <td>2.0</td>\n",
       "      <td>12.488369</td>\n",
       "    </tr>\n",
       "  </tbody>\n",
       "</table>\n",
       "</div>"
      ],
      "text/plain": [
       "   engine_displacement  num_cylinders  horsepower  vehicle_weight  \\\n",
       "0                  170            3.0       159.0     3413.433759   \n",
       "1                  130            5.0        97.0     3149.664934   \n",
       "2                  170            NaN        78.0     3079.038997   \n",
       "3                  220            4.0         NaN     2542.392402   \n",
       "4                  210            1.0       140.0     3460.870990   \n",
       "\n",
       "   acceleration  model_year  origin fuel_type         drivetrain  num_doors  \\\n",
       "0          17.7        2003  Europe  Gasoline    All-wheel drive        0.0   \n",
       "1          17.8        2007     USA  Gasoline  Front-wheel drive        0.0   \n",
       "2          15.1        2018  Europe  Gasoline  Front-wheel drive        0.0   \n",
       "3          20.2        2009     USA    Diesel    All-wheel drive        2.0   \n",
       "4          14.4        2009  Europe  Gasoline    All-wheel drive        2.0   \n",
       "\n",
       "   fuel_efficiency_mpg  \n",
       "0            13.231729  \n",
       "1            13.688217  \n",
       "2            14.246341  \n",
       "3            16.912736  \n",
       "4            12.488369  "
      ]
     },
     "execution_count": 67,
     "metadata": {},
     "output_type": "execute_result"
    }
   ],
   "source": [
    "df.head()"
   ]
  },
  {
   "cell_type": "markdown",
   "id": "da04b83d",
   "metadata": {},
   "source": [
    "## 2.3 Exploratory data analysis"
   ]
  },
  {
   "cell_type": "markdown",
   "id": "f8bb5156",
   "metadata": {},
   "source": [
    "##### Distribution of fuel_efficiency_mpg"
   ]
  },
  {
   "cell_type": "code",
   "execution_count": 68,
   "id": "84b765ff",
   "metadata": {},
   "outputs": [],
   "source": [
    "import matplotlib.pyplot as plt\n",
    "import seaborn as sns\n",
    "\n",
    "%matplotlib inline"
   ]
  },
  {
   "cell_type": "code",
   "execution_count": 69,
   "id": "f9d9805a",
   "metadata": {},
   "outputs": [
    {
     "data": {
      "text/plain": [
       "<Axes: xlabel='fuel_efficiency_mpg', ylabel='Count'>"
      ]
     },
     "execution_count": 69,
     "metadata": {},
     "output_type": "execute_result"
    },
    {
     "data": {
      "image/png": "[encoded data removed]",
      "text/plain": [
       "<Figure size 640x480 with 1 Axes>"
      ]
     },
     "metadata": {},
     "output_type": "display_data"
    }
   ],
   "source": [
    "sns.histplot(df.fuel_efficiency_mpg, bins=50)"
   ]
  },
  {
   "cell_type": "markdown",
   "id": "bd83aff3-330b-4d6d-9d4a-0e3bae47bd42",
   "metadata": {},
   "source": [
    "# Question 1\n",
    "There's one column with missing values. What is it?\n",
    "\n",
    "horsepower"
   ]
  },
  {
   "cell_type": "code",
   "execution_count": 70,
   "id": "2fff3b83",
   "metadata": {},
   "outputs": [
    {
     "name": "stdout",
     "output_type": "stream",
     "text": [
      "engine_displacement\n",
      "Sample:  [170 130 220 210 190]\n",
      "Unique:  36\n",
      "Null:  0\n",
      "\n",
      "horsepower\n",
      "Sample:  [159.  97.  78.  nan 140.]\n",
      "Unique:  192\n",
      "Null:  708\n",
      "\n",
      "vehicle_weight\n",
      "Sample:  [3413.43375861 3149.66493422 3079.03899737 2542.39240183 3460.87098999]\n",
      "Unique:  9704\n",
      "Null:  0\n",
      "\n",
      "model_year\n",
      "Sample:  [2003 2007 2018 2009 2008]\n",
      "Unique:  24\n",
      "Null:  0\n",
      "\n",
      "fuel_efficiency_mpg\n",
      "Sample:  [13.23172891 13.68821744 14.246341   16.9127356  12.48836912]\n",
      "Unique:  9704\n",
      "Null:  0\n",
      "\n"
     ]
    }
   ],
   "source": [
    "df=df[['engine_displacement','horsepower','vehicle_weight','model_year','fuel_efficiency_mpg']]\n",
    "\n",
    "for col in df.columns:\n",
    "    print(col)\n",
    "    print(\"Sample: \",df[col].unique()[:5])\n",
    "    print(\"Unique: \", df[col].nunique())\n",
    "    print(\"Null: \", df[col].isnull().sum())\n",
    "    print()"
   ]
  },
  {
   "cell_type": "markdown",
   "id": "2a48059f-c343-4f08-9723-19a155e8a7c1",
   "metadata": {},
   "source": [
    "# Question 2\n",
    "What's the median (50% percentile) for variable 'horsepower'?\n",
    "\n",
    "#### Answer: 149\n",
    "\n"
   ]
  },
  {
   "cell_type": "code",
   "execution_count": 71,
   "id": "1978271d",
   "metadata": {},
   "outputs": [
    {
     "data": {
      "text/plain": [
       "count    8996.000000\n",
       "mean      149.657292\n",
       "std        29.879555\n",
       "min        37.000000\n",
       "25%       130.000000\n",
       "50%       149.000000\n",
       "75%       170.000000\n",
       "max       271.000000\n",
       "Name: horsepower, dtype: float64"
      ]
     },
     "execution_count": 71,
     "metadata": {},
     "output_type": "execute_result"
    }
   ],
   "source": [
    "df['horsepower'].describe()"
   ]
  },
  {
   "cell_type": "markdown",
   "id": "953f066f",
   "metadata": {},
   "source": [
    "### Prepare and split the dataset"
   ]
  },
  {
   "cell_type": "code",
   "execution_count": 72,
   "id": "76642e96",
   "metadata": {},
   "outputs": [],
   "source": [
    "n = len(df)\n",
    "\n",
    "n_val = int(n * 0.2)\n",
    "n_test = int(n * 0.2)\n",
    "n_train = n - n_val - n_test"
   ]
  },
  {
   "cell_type": "code",
   "execution_count": 73,
   "id": "8d3617c8",
   "metadata": {},
   "outputs": [
    {
     "data": {
      "text/plain": [
       "(9704, 1940, 1940, 5824)"
      ]
     },
     "execution_count": 73,
     "metadata": {},
     "output_type": "execute_result"
    }
   ],
   "source": [
    "n, n_val, n_test, n_train"
   ]
  },
  {
   "cell_type": "code",
   "execution_count": 74,
   "id": "47883afc",
   "metadata": {},
   "outputs": [
    {
     "data": {
      "text/html": [
       "<div>\n",
       "<style scoped>\n",
       "    .dataframe tbody tr th:only-of-type {\n",
       "        vertical-align: middle;\n",
       "    }\n",
       "\n",
       "    .dataframe tbody tr th {\n",
       "        vertical-align: top;\n",
       "    }\n",
       "\n",
       "    .dataframe thead th {\n",
       "        text-align: right;\n",
       "    }\n",
       "</style>\n",
       "<table border=\"1\" class=\"dataframe\">\n",
       "  <thead>\n",
       "    <tr style=\"text-align: right;\">\n",
       "      <th></th>\n",
       "      <th>engine_displacement</th>\n",
       "      <th>horsepower</th>\n",
       "      <th>vehicle_weight</th>\n",
       "      <th>model_year</th>\n",
       "      <th>fuel_efficiency_mpg</th>\n",
       "    </tr>\n",
       "  </thead>\n",
       "  <tbody>\n",
       "    <tr>\n",
       "      <th>1</th>\n",
       "      <td>130</td>\n",
       "      <td>97.0</td>\n",
       "      <td>3149.664934</td>\n",
       "      <td>2007</td>\n",
       "      <td>13.688217</td>\n",
       "    </tr>\n",
       "    <tr>\n",
       "      <th>78</th>\n",
       "      <td>260</td>\n",
       "      <td>111.0</td>\n",
       "      <td>3582.774204</td>\n",
       "      <td>2015</td>\n",
       "      <td>10.954906</td>\n",
       "    </tr>\n",
       "    <tr>\n",
       "      <th>51</th>\n",
       "      <td>270</td>\n",
       "      <td>152.0</td>\n",
       "      <td>2730.947104</td>\n",
       "      <td>2015</td>\n",
       "      <td>15.820982</td>\n",
       "    </tr>\n",
       "    <tr>\n",
       "      <th>32</th>\n",
       "      <td>40</td>\n",
       "      <td>136.0</td>\n",
       "      <td>3619.370730</td>\n",
       "      <td>2017</td>\n",
       "      <td>11.029371</td>\n",
       "    </tr>\n",
       "  </tbody>\n",
       "</table>\n",
       "</div>"
      ],
      "text/plain": [
       "    engine_displacement  horsepower  vehicle_weight  model_year  \\\n",
       "1                   130        97.0     3149.664934        2007   \n",
       "78                  260       111.0     3582.774204        2015   \n",
       "51                  270       152.0     2730.947104        2015   \n",
       "32                   40       136.0     3619.370730        2017   \n",
       "\n",
       "    fuel_efficiency_mpg  \n",
       "1             13.688217  \n",
       "78            10.954906  \n",
       "51            15.820982  \n",
       "32            11.029371  "
      ]
     },
     "execution_count": 74,
     "metadata": {},
     "output_type": "execute_result"
    }
   ],
   "source": [
    "df.iloc[[1, 78, 51, 32]]"
   ]
  },
  {
   "cell_type": "code",
   "execution_count": 75,
   "id": "f6987746",
   "metadata": {},
   "outputs": [],
   "source": [
    "idx = np.arange(n)"
   ]
  },
  {
   "cell_type": "code",
   "execution_count": 76,
   "id": "c9ee63ea",
   "metadata": {},
   "outputs": [],
   "source": [
    "np.random.seed(42)\n",
    "np.random.shuffle(idx)"
   ]
  },
  {
   "cell_type": "code",
   "execution_count": 77,
   "id": "18ec97dd",
   "metadata": {},
   "outputs": [],
   "source": [
    "df_train = df.iloc[idx[:n_train]]\n",
    "df_val = df.iloc[idx[n_train:n_train+n_val]]\n",
    "df_test = df.iloc[idx[n_train+n_val:]]"
   ]
  },
  {
   "cell_type": "code",
   "execution_count": 78,
   "id": "c9766ce2",
   "metadata": {},
   "outputs": [
    {
     "data": {
      "text/html": [
       "<div>\n",
       "<style scoped>\n",
       "    .dataframe tbody tr th:only-of-type {\n",
       "        vertical-align: middle;\n",
       "    }\n",
       "\n",
       "    .dataframe tbody tr th {\n",
       "        vertical-align: top;\n",
       "    }\n",
       "\n",
       "    .dataframe thead th {\n",
       "        text-align: right;\n",
       "    }\n",
       "</style>\n",
       "<table border=\"1\" class=\"dataframe\">\n",
       "  <thead>\n",
       "    <tr style=\"text-align: right;\">\n",
       "      <th></th>\n",
       "      <th>engine_displacement</th>\n",
       "      <th>horsepower</th>\n",
       "      <th>vehicle_weight</th>\n",
       "      <th>model_year</th>\n",
       "      <th>fuel_efficiency_mpg</th>\n",
       "    </tr>\n",
       "  </thead>\n",
       "  <tbody>\n",
       "    <tr>\n",
       "      <th>483</th>\n",
       "      <td>220</td>\n",
       "      <td>144.0</td>\n",
       "      <td>2535.887591</td>\n",
       "      <td>2009</td>\n",
       "      <td>16.642943</td>\n",
       "    </tr>\n",
       "    <tr>\n",
       "      <th>7506</th>\n",
       "      <td>160</td>\n",
       "      <td>141.0</td>\n",
       "      <td>2741.170484</td>\n",
       "      <td>2019</td>\n",
       "      <td>16.298377</td>\n",
       "    </tr>\n",
       "    <tr>\n",
       "      <th>8795</th>\n",
       "      <td>230</td>\n",
       "      <td>155.0</td>\n",
       "      <td>2471.880237</td>\n",
       "      <td>2017</td>\n",
       "      <td>18.591822</td>\n",
       "    </tr>\n",
       "    <tr>\n",
       "      <th>1688</th>\n",
       "      <td>150</td>\n",
       "      <td>206.0</td>\n",
       "      <td>3748.164469</td>\n",
       "      <td>2015</td>\n",
       "      <td>11.818843</td>\n",
       "    </tr>\n",
       "    <tr>\n",
       "      <th>6217</th>\n",
       "      <td>300</td>\n",
       "      <td>111.0</td>\n",
       "      <td>2135.716359</td>\n",
       "      <td>2006</td>\n",
       "      <td>19.402209</td>\n",
       "    </tr>\n",
       "  </tbody>\n",
       "</table>\n",
       "</div>"
      ],
      "text/plain": [
       "      engine_displacement  horsepower  vehicle_weight  model_year  \\\n",
       "483                   220       144.0     2535.887591        2009   \n",
       "7506                  160       141.0     2741.170484        2019   \n",
       "8795                  230       155.0     2471.880237        2017   \n",
       "1688                  150       206.0     3748.164469        2015   \n",
       "6217                  300       111.0     2135.716359        2006   \n",
       "\n",
       "      fuel_efficiency_mpg  \n",
       "483             16.642943  \n",
       "7506            16.298377  \n",
       "8795            18.591822  \n",
       "1688            11.818843  \n",
       "6217            19.402209  "
      ]
     },
     "execution_count": 78,
     "metadata": {},
     "output_type": "execute_result"
    }
   ],
   "source": [
    "df_train.head()"
   ]
  },
  {
   "cell_type": "code",
   "execution_count": 79,
   "id": "25f84007",
   "metadata": {},
   "outputs": [
    {
     "data": {
      "text/plain": [
       "(9704, 5824, 1940, 1940)"
      ]
     },
     "execution_count": 79,
     "metadata": {},
     "output_type": "execute_result"
    }
   ],
   "source": [
    "len(df), len(df_train), len(df_val), len(df_test)"
   ]
  },
  {
   "cell_type": "code",
   "execution_count": 80,
   "id": "40c62812",
   "metadata": {},
   "outputs": [],
   "source": [
    "df_train = df_train.reset_index(drop=True)\n",
    "df_val = df_val.reset_index(drop=True)\n",
    "df_test = df_test.reset_index(drop=True)\n",
    "\n",
    "y_train = df_train.fuel_efficiency_mpg.values\n",
    "y_val = df_val.fuel_efficiency_mpg.values\n",
    "y_test = df_test.fuel_efficiency_mpg.values"
   ]
  },
  {
   "cell_type": "markdown",
   "id": "ac795dac-a07f-4e87-8734-485bb0df12a1",
   "metadata": {},
   "source": [
    "# Question 3\n",
    "We need to deal with missing values for the column from Q1.</br>\n",
    "We have two options: fill it with 0 or with the mean of this variable.</br>\n",
    "Try both options. For each, train a linear regression model without regularization using the code from the lessons.</br>\n",
    "For computing the mean, use the training only!</br>\n",
    "Use the validation dataset to evaluate the models and compare the RMSE of each option.</br>\n",
    "Round the RMSE scores to 2 decimal digits using round(score, 2)</br>\n",
    "Which option gives better RMSE?</br>\n",
    "#### Answer: With mean</br>\n",
    "\n",
    "0.4624412137959964 (Mean) << 0.5202614265099076 (Zeros)\n",
    "\n"
   ]
  },
  {
   "cell_type": "code",
   "execution_count": 34,
   "id": "486bd319",
   "metadata": {},
   "outputs": [],
   "source": [
    "def train_linear_regression(X, y):\n",
    "    ones = np.ones(X.shape[0])\n",
    "    X = np.column_stack([ones, X])\n",
    "\n",
    "    XTX = X.T.dot(X)\n",
    "    XTX_inv = np.linalg.inv(XTX)\n",
    "    w_full = XTX_inv.dot(X.T).dot(y)\n",
    "    \n",
    "    return w_full[0], w_full[1:]"
   ]
  },
  {
   "cell_type": "code",
   "execution_count": 16,
   "id": "025ef5a2",
   "metadata": {},
   "outputs": [],
   "source": [
    "def rmse(y, y_pred):\n",
    "    se = (y - y_pred) ** 2\n",
    "    mse = se.mean()\n",
    "    return np.sqrt(mse)"
   ]
  },
  {
   "cell_type": "code",
   "execution_count": 47,
   "id": "61eeda38",
   "metadata": {},
   "outputs": [
    {
     "data": {
      "text/plain": [
       "np.float64(0.5202614265099076)"
      ]
     },
     "execution_count": 47,
     "metadata": {},
     "output_type": "execute_result"
    }
   ],
   "source": [
    "rmse(y_train, y_pred)"
   ]
  },
  {
   "cell_type": "code",
   "execution_count": 81,
   "id": "677c4a3a-8f5d-4f6e-8144-9b24c9615b3d",
   "metadata": {},
   "outputs": [],
   "source": [
    "def run_variant(X_train,y_train,X_val,y_val, name):\n",
    "    print(\"Running variant\",name)\n",
    "    w0, w = train_linear_regression(X_train, y_train)\n",
    "    print(\"Wo\",w0)\n",
    "    print(\"W\",w)\n",
    "    y_pred = w0 + X_val.dot(w)\n",
    "    RMSE = rmse(y_val, y_pred)\n",
    "    print(\"RMSE\", RMSE)\n",
    "    return {\"y_pred\":y_pred,\"RMSE\":RMSE}"
   ]
  },
  {
   "cell_type": "code",
   "execution_count": 83,
   "id": "2d1018a1-15dc-412d-be72-d8abe0fdce80",
   "metadata": {},
   "outputs": [
    {
     "name": "stdout",
     "output_type": "stream",
     "text": [
      "Running variant Fill zeros\n",
      "Wo 28.82736547365895\n",
      "W [ 9.93613218e-05  3.54221891e-03 -5.01328015e-03  3.42992870e-04]\n",
      "RMSE 0.5173782638844466\n"
     ]
    },
    {
     "data": {
      "text/plain": [
       "<Axes: ylabel='Count'>"
      ]
     },
     "execution_count": 83,
     "metadata": {},
     "output_type": "execute_result"
    },
    {
     "data": {
      "image/png": "[encoded data removed]",
      "text/plain": [
       "<Figure size 640x480 with 1 Axes>"
      ]
     },
     "metadata": {},
     "output_type": "display_data"
    }
   ],
   "source": [
    "base = ['engine_displacement','horsepower','vehicle_weight','model_year']\n",
    "\n",
    "# Fill zeros\n",
    "X_train = df_train[base].fillna(0).values\n",
    "X_val = df_val[base].fillna(0).values\n",
    "\n",
    "y_pred=run_variant(X_train,y_train,X_val,y_val, \"Fill zeros\")\n",
    "\n",
    "sns.histplot(y_pred, color='red', alpha=0.5, bins=50)\n",
    "sns.histplot(y_train, color='blue', alpha=0.5, bins=50)\n"
   ]
  },
  {
   "cell_type": "code",
   "execution_count": 86,
   "id": "b087b84f-c597-44e1-a666-5486af1bd19b",
   "metadata": {},
   "outputs": [
    {
     "name": "stdout",
     "output_type": "stream",
     "text": [
      "Running variant Fill zeros\n",
      "Wo 28.925259951002698\n",
      "W [ 0.00012093  0.01030308 -0.00501009 -0.00023463]\n",
      "RMSE 0.4635965042334585\n"
     ]
    },
    {
     "data": {
      "text/plain": [
       "<Axes: ylabel='Count'>"
      ]
     },
     "execution_count": 86,
     "metadata": {},
     "output_type": "execute_result"
    },
    {
     "data": {
      "image/png": "[encoded data removed]",
      "text/plain": [
       "<Figure size 640x480 with 1 Axes>"
      ]
     },
     "metadata": {},
     "output_type": "display_data"
    }
   ],
   "source": [
    "base = ['engine_displacement','horsepower','vehicle_weight','model_year']\n",
    "\n",
    "# Mean\n",
    "mean_val=df_train.mean(numeric_only=True)\n",
    "X_train = df_train[base].fillna(mean_val).values\n",
    "X_val = df_val[base].fillna(mean_val).values\n",
    "\n",
    "y_pred=run_variant(X_train,y_train,X_val,y_val, \"Fill zeros\")\n",
    "\n",
    "sns.histplot(y_pred, color='red', alpha=0.5, bins=50)\n",
    "sns.histplot(y_train, color='blue', alpha=0.5, bins=50)\n"
   ]
  },
  {
   "cell_type": "markdown",
   "id": "0bf392ac-ae18-4156-ba9c-4a9ffc5eb5e0",
   "metadata": {},
   "source": [
    "# Question 4\n",
    "Now let's train a regularized linear regression. </br>\n",
    "For this question, fill the NAs with 0.</br>\n",
    "Try different values of r from this list: [0, 0.01, 0.1, 1, 5, 10, 100].</br>\n",
    "Use RMSE to evaluate the model on the validation dataset.</br>\n",
    "Round the RMSE scores to 2 decimal digits.</br>\n",
    "Which r gives the best RMSE?</br>\n",
    "If multiple options give the same best RMSE, select the smallest r.</br>\n",
    "\n",
    "#### Answer 0.01"
   ]
  },
  {
   "cell_type": "code",
   "execution_count": 87,
   "id": "1e9783cf-b87e-4c4d-aac2-30b5b73fc44d",
   "metadata": {},
   "outputs": [],
   "source": [
    "def train_linear_regression_reg(X, y, r=0.001):\n",
    "    ones = np.ones(X.shape[0])\n",
    "    X = np.column_stack([ones, X])\n",
    "\n",
    "    XTX = X.T.dot(X)\n",
    "    XTX = XTX + r * np.eye(XTX.shape[0])\n",
    "\n",
    "    XTX_inv = np.linalg.inv(XTX)\n",
    "    w_full = XTX_inv.dot(X.T).dot(y)\n",
    "    \n",
    "    return w_full[0], w_full[1:]"
   ]
  },
  {
   "cell_type": "code",
   "execution_count": 94,
   "id": "18f63c01-3933-40d0-a9da-b761d8a5ed68",
   "metadata": {},
   "outputs": [],
   "source": [
    "def run_variant_reg(X_train,y_train,X_val,y_val, name, r=0.001):\n",
    "    print(\"Variant: \",name)\n",
    "    w0, w = train_linear_regression_reg(X_train, y_train,r)\n",
    "    y_pred = w0 + X_val.dot(w)\n",
    "    RMSE=rmse(y_val, y_pred)\n",
    "    print(\"RMSE\",RMSE )\n",
    "    return {\"y_pred\":y_pred,\"RMSE\":RMSE,\"w0\":w0,\"w\":w}\n",
    "    "
   ]
  },
  {
   "cell_type": "code",
   "execution_count": 95,
   "id": "60937268-4f2a-42a2-b69a-39a8fb671f97",
   "metadata": {},
   "outputs": [
    {
     "name": "stdout",
     "output_type": "stream",
     "text": [
      "Variant:  Reg param 0\n",
      "RMSE 0.5173782638844466\n",
      "Variant:  Reg param 0.01\n",
      "RMSE 0.5171115525769823\n",
      "Variant:  Reg param 0.1\n",
      "RMSE 0.5187525130702517\n",
      "Variant:  Reg param 1\n",
      "RMSE 0.5222348802093141\n",
      "Variant:  Reg param 5\n",
      "RMSE 0.522891609282361\n",
      "Variant:  Reg param 10\n",
      "RMSE 0.5229812979636599\n",
      "Variant:  Reg param 100\n",
      "RMSE 0.5230636233819933\n"
     ]
    }
   ],
   "source": [
    "rs=[0, 0.01, 0.1, 1, 5, 10, 100]\n",
    "\n",
    "X_train = df_train[base].fillna(0).values\n",
    "X_val=df_val[base].fillna(0).values\n",
    "\n",
    "for r in rs:\n",
    "    name=f\"Reg param {r}\"\n",
    "    run_variant_reg(X_train,y_train,X_val,y_val,name, r)\n",
    "    "
   ]
  },
  {
   "cell_type": "markdown",
   "id": "d82b3ff2",
   "metadata": {},
   "source": [
    "# Question 5\n",
    "We used seed 42 for splitting the data. Let's find out how selecting the seed influences our score. </br>\n",
    "Try different seed values: [0, 1, 2, 3, 4, 5, 6, 7, 8, 9]. </br>\n",
    "For each seed, do the train/validation/test split with 60%/20%/20% distribution.</br>\n",
    "Fill the missing values with 0 and train a model without regularization.</br>\n",
    "For each seed, evaluate the model on the validation dataset and collect the RMSE scores.</br>\n",
    "What's the standard deviation of all the scores? To compute the standard deviation, use np.std.</br>\n",
    "Round the result to 3 decimal digits (round(std, 3))</br>\n",
    "What's the value of std?</br>\n",
    "### Answer: \n",
    "0.001\n",
    "0.006\n",
    "0.060\n",
    "0.600\n",
    "</br>\n",
    "Note: Standard deviation shows how different the values are. If it's low, then all values are approximately the same. If it's high, the values are different. If standard deviation of scores is low, then our model is stable."
   ]
  },
  {
   "cell_type": "code",
   "execution_count": 61,
   "id": "5b53495c-4280-4b61-bf0e-b6ea9d5e7491",
   "metadata": {},
   "outputs": [],
   "source": [
    "base = ['engine_displacement','horsepower','vehicle_weight','age']\n",
    "\n",
    "def prepare_data(s=42):\n",
    "    df=pd.read_csv('https://raw.githubusercontent.com/alexeygrigorev/datasets/master/car_fuel_efficiency.csv')\n",
    "    df=df[['engine_displacement','horsepower','vehicle_weight','model_year','fuel_efficiency_mpg']]\n",
    "    df['age'] = df['model_year'].max() - df['model_year']\n",
    "    n = len(df)\n",
    "    n_val = int(n * 0.2)\n",
    "    n_test = int(n * 0.2)\n",
    "    n_train = n - n_val - n_test\n",
    "    n = len(df)\n",
    "    idx = np.arange(n)\n",
    "    np.random.seed(s)\n",
    "    np.random.shuffle(idx)\n",
    "    df_train = df.iloc[idx[:n_train]]\n",
    "    df_val = df.iloc[idx[n_train:n_train+n_val]]\n",
    "    df_test = df.iloc[idx[n_train+n_val:]]\n",
    "    df_train = df_train.reset_index(drop=True)\n",
    "    df_val = df_val.reset_index(drop=True)\n",
    "    df_test = df_test.reset_index(drop=True)\n",
    "    y_train = df_train.fuel_efficiency_mpg.values\n",
    "    y_val = df_val.fuel_efficiency_mpg.values\n",
    "    y_test = df_test.fuel_efficiency_mpg.values\n",
    "    return df_train,y_train,df_val,y_val,df_test,y_test\n",
    "    "
   ]
  },
  {
   "cell_type": "code",
   "execution_count": 53,
   "id": "3d77c42b-47c1-4f68-be4d-234f3851e564",
   "metadata": {},
   "outputs": [],
   "source": [
    "def train_linear_regression(X, y):\n",
    "    ones = np.ones(X.shape[0])\n",
    "    X = np.column_stack([ones, X])\n",
    "\n",
    "    XTX = X.T.dot(X)\n",
    "    XTX_inv = np.linalg.inv(XTX)\n",
    "    w_full = XTX_inv.dot(X.T).dot(y)\n",
    "    \n",
    "    return w_full[0], w_full[1:]"
   ]
  },
  {
   "cell_type": "code",
   "execution_count": 54,
   "id": "397be01e-0153-46a4-b894-3a54a4424411",
   "metadata": {},
   "outputs": [],
   "source": [
    "def run_variant(X_train,y_train, X_val,y_val, name):\n",
    "    print(\"Variant: \",name)\n",
    "    w0, w = train_linear_regression(X_train, y_train)\n",
    "    y_pred = w0 + X_val.dot(w)\n",
    "    RMSE = rmse(y_val, y_pred)\n",
    "    print(\"RMSE\", RMSE)\n",
    "    return {\"y_pred\":y_pred,\"RMSE\":RMSE,\"w0\":w0,\"w\":w}"
   ]
  },
  {
   "cell_type": "code",
   "execution_count": 57,
   "id": "cc66be23",
   "metadata": {},
   "outputs": [
    {
     "name": "stdout",
     "output_type": "stream",
     "text": [
      "5824 1940 1940\n",
      "Variant:  Seed 0\n",
      "RMSE 0.5206531296298024\n",
      "5824 1940 1940\n",
      "Variant:  Seed 1\n",
      "RMSE 0.5213388912856988\n",
      "5824 1940 1940\n",
      "Variant:  Seed 2\n",
      "RMSE 0.5228069974802021\n",
      "5824 1940 1940\n",
      "Variant:  Seed 3\n",
      "RMSE 0.5159516741173531\n",
      "5824 1940 1940\n",
      "Variant:  Seed 4\n",
      "RMSE 0.5109129460065376\n",
      "5824 1940 1940\n",
      "Variant:  Seed 5\n",
      "RMSE 0.5283406460165985\n",
      "5824 1940 1940\n",
      "Variant:  Seed 6\n",
      "RMSE 0.5313910658170704\n",
      "5824 1940 1940\n",
      "Variant:  Seed 7\n",
      "RMSE 0.5090670387374364\n",
      "5824 1940 1940\n",
      "Variant:  Seed 8\n",
      "RMSE 0.5147399129350915\n",
      "5824 1940 1940\n",
      "Variant:  Seed 9\n",
      "RMSE 0.5131865908331025\n"
     ]
    },
    {
     "data": {
      "text/plain": [
       "np.float64(0.007)"
      ]
     },
     "execution_count": 57,
     "metadata": {},
     "output_type": "execute_result"
    }
   ],
   "source": [
    "seeds=[0, 1, 2, 3, 4, 5, 6, 7, 8, 9]\n",
    "rmse_array=[]\n",
    "for s in seeds:\n",
    "    df_train,y_train,df_val,y_val,df_test,y_test=prepare_data(s)\n",
    "    X_train = df_train[base].fillna(0).values\n",
    "    X_val=df_val[base].fillna(0).values\n",
    "    name=f\"Seed {s}\"\n",
    "    res=run_variant(X_train,y_train,X_val,y_val,name)\n",
    "    rmse_array.append(res['RMSE'])\n",
    "std=np.std(rmse_array)\n",
    "round(std, 3)"
   ]
  },
  {
   "cell_type": "markdown",
   "id": "78028cd1-f27e-4824-b255-a1ec4938edb1",
   "metadata": {},
   "source": [
    "# Question 6\n",
    "Split the dataset like previously, use seed 9. </br>\n",
    "Combine train and validation datasets.</br>\n",
    "Fill the missing values with 0 and train a model with r=0.001.</br>\n",
    "What's the RMSE on the test dataset? </br>\n",
    "Options:\n",
    "\n",
    "#### Answer 0.515\n"
   ]
  },
  {
   "cell_type": "code",
   "execution_count": 64,
   "id": "89ac6135-621a-4d56-8a65-cc1977476d19",
   "metadata": {},
   "outputs": [
    {
     "name": "stdout",
     "output_type": "stream",
     "text": [
      "RMSE 0.5156120466461953\n"
     ]
    }
   ],
   "source": [
    "df_train,y_train,df_val,y_val,df_test,y_test=prepare_data(9)\n",
    "\n",
    "df_full_train = pd.concat([df_train, df_val])\n",
    "df_full_train = df_full_train.reset_index(drop=True)\n",
    "\n",
    "X_full_train = df_full_train[base].fillna(0).values\n",
    "X_test=df_test[base].fillna(0).values\n",
    "\n",
    "y_full_train = np.concatenate([y_train, y_val])\n",
    "\n",
    "w0, w = train_linear_regression_reg(X_full_train, y_full_train,0.001)\n",
    "y_pred = w0 + X_test.dot(w)\n",
    "RMSE = rmse(y_test, y_pred)\n",
    "print(\"RMSE\", RMSE)\n"
   ]
  }
 ],
 "metadata": {
  "kernelspec": {
   "display_name": "Python 3 (ipykernel)",
   "language": "python",
   "name": "python3"
  },
  "language_info": {
   "codemirror_mode": {
    "name": "ipython",
    "version": 3
   },
   "file_extension": ".py",
   "mimetype": "text/x-python",
   "name": "python",
   "nbconvert_exporter": "python",
   "pygments_lexer": "ipython3",
   "version": "3.12.1"
  }
 },
 "nbformat": 4,
 "nbformat_minor": 5
}
